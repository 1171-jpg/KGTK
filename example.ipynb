{
 "cells": [
  {
   "cell_type": "code",
   "execution_count": 1,
   "metadata": {},
   "outputs": [],
   "source": [
    "import kgtk"
   ]
  },
  {
   "cell_type": "markdown",
   "metadata": {},
   "source": [
    "#### The notebook provide basic example on how to use KGTK tools on CSKG \n",
    "#### **CSKG** is a commonsense knowledge graph that combines seven popular sources into a consolidated representation:\n",
    "* ATOMIC\n",
    "* ConceptNet\n",
    "* FrameNet\n",
    "* Roget\n",
    "* Visual Genome\n",
    "* Wikidata (We use the Wikidata-CS subset)\n",
    "* WordNet\n",
    "\n",
    "#### **CSKG** stores data with nine dimension as following:\n",
    "| d | node1 | relation | node2 | node1;label | node2;label | relation;label | relation;dimension | source | sentence |\n",
    "|---|-------|----------|-------|-------------|-------------|----------------|--------------------|--------|----------|\n",
    "| /c/en/0-/r/DefinedAs-/c/en/empty_set-0000 | /c/en/0 | /r/DefinedAs | /c/en/empty_set | 0 | empty set | defined as | | CN | [[0]] is the [[empty set]]. |\n",
    "\n",
    "\n",
    "#### **KGTK** is a Python library for easy manipulation with knowledge graphs. In this notebook, we adapt KGTK tools on CSKG."
   ]
  },
  {
   "cell_type": "markdown",
   "metadata": {},
   "source": [
    "#### 1.**Query** is the basic operation to search specific pattern on CSKG and return the results according to a return specification. \n",
    "* The following example is a simple query with an anonymous edge pattern\n",
    "* We use limit to control the number of feedback"
   ]
  },
  {
   "cell_type": "code",
   "execution_count": 9,
   "metadata": {},
   "outputs": [
    {
     "name": "stdout",
     "output_type": "stream",
     "text": [
      "id\tnode1\trelation\tnode2\tnode1;label\tnode2;label\trelation;label\trelation;dimension\tsource\tsentence\n",
      "/c/en/0-/r/DefinedAs-/c/en/empty_set-0000\t/c/en/0\t/r/DefinedAs\t/c/en/empty_set\t0\tempty set\tdefined as\t\tCN\t[[0]] is the [[empty set]].\n",
      "/c/en/0-/r/DefinedAs-/c/en/first_limit_ordinal-0000\t/c/en/0\t/r/DefinedAs\t/c/en/first_limit_ordinal\t0\tfirst limit ordinal\tdefined as\t\tCN\t[[0]] is the [[first limit ordinal]].\n",
      "/c/en/0-/r/DefinedAs-/c/en/number_zero-0000\t/c/en/0\t/r/DefinedAs\t/c/en/number_zero\t0\tnumber zero\tdefined as\t\tCN\t[[0]] is the [[number zero]].\n",
      "/c/en/0-/r/HasContext-/c/en/internet_slang-0000\t/c/en/0\t/r/HasContext\t/c/en/internet_slang\t0\tinternet slang\thas context\t\tCN\t\n",
      "/c/en/0-/r/HasProperty-/c/en/pronounced_zero-0000\t/c/en/0\t/r/HasProperty\t/c/en/pronounced_zero\t0\tpronounced zero\thas property\t\tCN\t[[\"0\"]] is [[pronounced zero]]\n"
     ]
    }
   ],
   "source": [
    "!kgtk query -i cskg.tsv --match '()-[]->()' --limit 5"
   ]
  },
  {
   "cell_type": "markdown",
   "metadata": {},
   "source": [
    "#### 2.**Return** can format and modify the result based on variables. (Avoid time-costing query)"
   ]
  },
  {
   "cell_type": "code",
   "execution_count": 10,
   "metadata": {},
   "outputs": [
    {
     "name": "stdout",
     "output_type": "stream",
     "text": [
      "id\tnode1\tnode2\trelation\tsource\n",
      "/c/en/0-/r/DefinedAs-/c/en/empty_set-0000\t/c/en/0\t/c/en/empty_set\t/r/DefinedAs\tCN\n",
      "/c/en/0-/r/DefinedAs-/c/en/first_limit_ordinal-0000\t/c/en/0\t/c/en/first_limit_ordinal\t/r/DefinedAs\tCN\n",
      "/c/en/0-/r/DefinedAs-/c/en/number_zero-0000\t/c/en/0\t/c/en/number_zero\t/r/DefinedAs\tCN\n",
      "/c/en/0-/r/HasContext-/c/en/internet_slang-0000\t/c/en/0\t/c/en/internet_slang\t/r/HasContext\tCN\n",
      "/c/en/0-/r/HasProperty-/c/en/pronounced_zero-0000\t/c/en/0\t/c/en/pronounced_zero\t/r/HasProperty\tCN\n"
     ]
    }
   ],
   "source": [
    "!kgtk query -i cskg.tsv --match '(p)-[r]->(n)'\\\n",
    "                        --limit 5 \\\n",
    "                        --return 'r,p,n,r.relation,r.source'"
   ]
  },
  {
   "cell_type": "markdown",
   "metadata": {},
   "source": [
    "#### 3.**Where** holds a possibly complex Boolean expression that gets evaluated as additional edge filter\n",
    "* The follow example extract all knowledge related with bus in ConceptNet."
   ]
  },
  {
   "cell_type": "code",
   "execution_count": 14,
   "metadata": {},
   "outputs": [
    {
     "name": "stdout",
     "output_type": "stream",
     "text": [
      "id\tnode1\tnode2\trelation\tsource\n",
      "/c/en/bus-/r/AtLocation-/c/en/big_cities-0000\t/c/en/bus\t/c/en/big_cities\t/r/AtLocation\tCN\n",
      "/c/en/bus-/r/AtLocation-/c/en/bus_station-0000\t/c/en/bus\t/c/en/bus_station\t/r/AtLocation\tCN\n",
      "/c/en/bus-/r/AtLocation-/c/en/bus_stop-0000\t/c/en/bus\t/c/en/bus_stop\t/r/AtLocation\tCN\n",
      "/c/en/bus-/r/AtLocation-/c/en/city-0000\t/c/en/bus\t/c/en/city\t/r/AtLocation\tCN\n",
      "/c/en/bus-/r/AtLocation-/c/en/computer-0000\t/c/en/bus\t/c/en/computer\t/r/AtLocation\tCN\n",
      "/c/en/bus-/r/AtLocation-/c/en/garage-0000\t/c/en/bus\t/c/en/garage\t/r/AtLocation\tCN\n",
      "/c/en/bus-/r/AtLocation-/c/en/michigan-0000\t/c/en/bus\t/c/en/michigan\t/r/AtLocation\tCN\n",
      "/c/en/bus-/r/AtLocation-/c/en/new_york-0000\t/c/en/bus\t/c/en/new_york\t/r/AtLocation\tCN\n",
      "/c/en/bus-/r/AtLocation-/c/en/school-0000\t/c/en/bus\t/c/en/school\t/r/AtLocation\tCN\n",
      "/c/en/bus-/r/AtLocation-/c/en/seats-0000\t/c/en/bus\t/c/en/seats\t/r/AtLocation\tCN\n",
      "/c/en/bus-/r/AtLocation-/c/en/street-0000\t/c/en/bus\t/c/en/street\t/r/AtLocation\tCN\n",
      "/c/en/bus-/r/AtLocation-/c/en/use-0000\t/c/en/bus\t/c/en/use\t/r/AtLocation\tCN\n",
      "/c/en/bus-/r/CapableOf-/c/en/carry_passengers-0000\t/c/en/bus\t/c/en/carry_passengers\t/r/CapableOf\tCN\n",
      "/c/en/bus-/r/CapableOf-/c/en/drive_down_street-0000\t/c/en/bus\t/c/en/drive_down_street\t/r/CapableOf\tCN\n",
      "/c/en/bus-/r/CapableOf-/c/en/drive_to_city-0000\t/c/en/bus\t/c/en/drive_to_city\t/r/CapableOf\tCN\n",
      "/c/en/bus-/r/CapableOf-/c/en/go_into_town-0000\t/c/en/bus\t/c/en/go_into_town\t/r/CapableOf\tCN\n",
      "/c/en/bus-/r/CapableOf-/c/en/near_terminal-0000\t/c/en/bus\t/c/en/near_terminal\t/r/CapableOf\tCN\n",
      "/c/en/bus-/r/CapableOf-/c/en/seat_capacity-0000\t/c/en/bus\t/c/en/seat_capacity\t/r/CapableOf\tCN\n",
      "/c/en/bus-/r/CapableOf-/c/en/stop_at_corner-0000\t/c/en/bus\t/c/en/stop_at_corner\t/r/CapableOf\tCN\n",
      "/c/en/bus-/r/CapableOf-/c/en/take_across_country-0000\t/c/en/bus\t/c/en/take_across_country\t/r/CapableOf\tCN\n"
     ]
    }
   ],
   "source": [
    "!kgtk query -i cskg.tsv --match '(p)-[r]->(n)' \\\n",
    "                        --limit 20 \\\n",
    "                        --where 'r.source= \"CN\" and p = \"/c/en/bus\"' \\\n",
    "                        --return 'r,p,n,r.relation,r.source'"
   ]
  },
  {
   "cell_type": "markdown",
   "metadata": {},
   "source": [
    "* The follow example extract 20 knowledge pairs start with bus and with relation in CapableOf, IsA or HasA in ConceptNet."
   ]
  },
  {
   "cell_type": "code",
   "execution_count": 15,
   "metadata": {},
   "outputs": [
    {
     "name": "stdout",
     "output_type": "stream",
     "text": [
      "id\tnode1\tnode2\trelation\tsource\n",
      "/c/en/bus-/r/CapableOf-/c/en/carry_passengers-0000\t/c/en/bus\t/c/en/carry_passengers\t/r/CapableOf\tCN\n",
      "/c/en/bus-/r/CapableOf-/c/en/drive_down_street-0000\t/c/en/bus\t/c/en/drive_down_street\t/r/CapableOf\tCN\n",
      "/c/en/bus-/r/CapableOf-/c/en/drive_to_city-0000\t/c/en/bus\t/c/en/drive_to_city\t/r/CapableOf\tCN\n",
      "/c/en/bus-/r/CapableOf-/c/en/go_into_town-0000\t/c/en/bus\t/c/en/go_into_town\t/r/CapableOf\tCN\n",
      "/c/en/bus-/r/CapableOf-/c/en/near_terminal-0000\t/c/en/bus\t/c/en/near_terminal\t/r/CapableOf\tCN\n",
      "/c/en/bus-/r/CapableOf-/c/en/seat_capacity-0000\t/c/en/bus\t/c/en/seat_capacity\t/r/CapableOf\tCN\n",
      "/c/en/bus-/r/CapableOf-/c/en/stop_at_corner-0000\t/c/en/bus\t/c/en/stop_at_corner\t/r/CapableOf\tCN\n",
      "/c/en/bus-/r/CapableOf-/c/en/take_across_country-0000\t/c/en/bus\t/c/en/take_across_country\t/r/CapableOf\tCN\n",
      "/c/en/bus-/r/CapableOf-/c/en/transport_many_people_at_once-0000\t/c/en/bus\t/c/en/transport_many_people_at_once\t/r/CapableOf\tCN\n",
      "/c/en/bus-/r/CapableOf-/c/en/transport_people-0000\t/c/en/bus\t/c/en/transport_people\t/r/CapableOf\tCN\n",
      "/c/en/bus-/r/HasA-/c/en/glass_windows-0000\t/c/en/bus\t/c/en/glass_windows\t/r/HasA\tCN\n",
      "/c/en/bus-/r/HasA-/c/en/many_seats-0000\t/c/en/bus\t/c/en/many_seats\t/r/HasA\tCN\n",
      "/c/en/bus-/r/HasA-/c/en/parts_made_of_plastic-0000\t/c/en/bus\t/c/en/parts_made_of_plastic\t/r/HasA\tCN\n",
      "/c/en/bus-/r/HasA-/c/en/windows-0000\t/c/en/bus\t/c/en/windows\t/r/HasA\tCN\n",
      "/c/en/bus-/r/IsA-/c/en/car-0000\t/c/en/bus\t/c/en/car\t/r/IsA\tCN\n",
      "/c/en/bus-/r/IsA-/c/en/form_of_mass_transit-0000\t/c/en/bus\t/c/en/form_of_mass_transit\t/r/IsA\tCN\n",
      "/c/en/bus-/r/IsA-/c/en/form_of_mass_transportation-0000\t/c/en/bus\t/c/en/form_of_mass_transportation\t/r/IsA\tCN\n",
      "/c/en/bus-/r/IsA-/c/en/form_of_public_transportation-0000\t/c/en/bus\t/c/en/form_of_public_transportation\t/r/IsA\tCN\n",
      "/c/en/bus-/r/IsA-/c/en/form_of_transportation-0000\t/c/en/bus\t/c/en/form_of_transportation\t/r/IsA\tCN\n",
      "/c/en/bus-/r/IsA-/c/en/heavier_than_typewriter_keyboard-0000\t/c/en/bus\t/c/en/heavier_than_typewriter_keyboard\t/r/IsA\tCN\n"
     ]
    }
   ],
   "source": [
    "!kgtk query -i cskg.tsv --match '(p)-[r]->(n)' \\\n",
    "                        --limit 20 \\\n",
    "                        --where 'r.source= \"CN\" and p = \"/c/en/bus\" and r.relation in [\"/r/CapableOf\",\"/r/IsA\",\"/r/HasA\"]' \\\n",
    "                        --return 'r,p,n,r.relation,r.source'"
   ]
  },
  {
   "cell_type": "markdown",
   "metadata": {},
   "source": [
    "* **Query** also support multi hop edge connnection. \n",
    "* This example shows what the function of each part of bus."
   ]
  },
  {
   "cell_type": "code",
   "execution_count": 41,
   "metadata": {},
   "outputs": [
    {
     "name": "stdout",
     "output_type": "stream",
     "text": [
      "id\tnode2\tnode2\trelation\tsource\n",
      "/c/en/bus-/r/HasA-/c/en/windows-0000\t/c/en/windows\t/c/en/clear_and_solid\t/r/HasA\tCN\n",
      "/c/en/bus-/r/HasA-/c/en/windows-0000\t/c/en/windows\t/c/en/for_looking_outside\t/r/HasA\tCN\n",
      "/c/en/bus-/r/HasA-/c/en/windows-0000\t/c/en/windows\t/c/en/opened_or_closed\t/r/HasA\tCN\n",
      "/c/en/bus-/r/HasA-/c/en/windows-0000\t/c/en/windows\t/c/en/unlikely_to_parts_of_fences\t/r/HasA\tCN\n"
     ]
    }
   ],
   "source": [
    "!kgtk query -i cskg.tsv --match '(p)-[r]->(n)-[r2 {relation:\"/r/HasProperty\"}]->(sn)' \\\n",
    "                        --limit 30 \\\n",
    "                        --where 'r.source= \"CN\" and p = \"/c/en/bus\" and r.relation =\"/r/HasA\"' \\\n",
    "                        --return 'r,n,sn,r.relation,r.source'"
   ]
  },
  {
   "cell_type": "markdown",
   "metadata": {},
   "source": [
    "#### The output file can be stored and visualized"
   ]
  },
  {
   "cell_type": "code",
   "execution_count": 53,
   "metadata": {},
   "outputs": [],
   "source": [
    "!kgtk query -i cskg.tsv --match '(p)-[r]->(n)' \\\n",
    "                        --limit 30 \\\n",
    "                        --where 'r.source= \"CN\" and p = \"/c/en/bus\" and r.relation in [\"/r/CapableOf\",\"/r/IsA\",\"/r/HasA\"]' \\\n",
    "                        --return 'r,p,n,r.relation as label,r.source'\\\n",
    "                        -o bus-example-query.tsv"
   ]
  },
  {
   "cell_type": "code",
   "execution_count": 54,
   "metadata": {},
   "outputs": [],
   "source": [
    "!kgtk visualize-graph -i bus-example-query.tsv\\\n",
    "                     --node-color-hex \\\n",
    "                     --show-text above \\\n",
    "                     --edge-color-hex \\\n",
    "                     --show-edge-label \\\n",
    "                     --node-size-default 4\\\n",
    "                     --edge-width-default 0.5\\\n",
    "                     -o show_node_label.html"
   ]
  },
  {
   "cell_type": "code",
   "execution_count": 62,
   "metadata": {},
   "outputs": [
    {
     "ename": "SyntaxError",
     "evalue": "invalid syntax (1532694037.py, line 1)",
     "output_type": "error",
     "traceback": [
      "\u001b[0;36m  Cell \u001b[0;32mIn[62], line 1\u001b[0;36m\u001b[0m\n\u001b[0;31m    <img src=\"../KGTK/visualization.png\", width=540, height=480>\u001b[0m\n\u001b[0m    ^\u001b[0m\n\u001b[0;31mSyntaxError\u001b[0m\u001b[0;31m:\u001b[0m invalid syntax\n"
     ]
    }
   ],
   "source": [
    "<img src=\"../visualization.png\", width=540, height=480>"
   ]
  },
  {
   "cell_type": "code",
   "execution_count": null,
   "metadata": {},
   "outputs": [],
   "source": []
  }
 ],
 "metadata": {
  "kernelspec": {
   "display_name": "Curriculum_Learning",
   "language": "python",
   "name": "python3"
  },
  "language_info": {
   "codemirror_mode": {
    "name": "ipython",
    "version": 3
   },
   "file_extension": ".py",
   "mimetype": "text/x-python",
   "name": "python",
   "nbconvert_exporter": "python",
   "pygments_lexer": "ipython3",
   "version": "3.9.18"
  },
  "orig_nbformat": 4
 },
 "nbformat": 4,
 "nbformat_minor": 2
}
